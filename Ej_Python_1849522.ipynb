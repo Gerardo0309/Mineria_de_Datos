{
  "nbformat": 4,
  "nbformat_minor": 0,
  "metadata": {
    "colab": {
      "name": "EjerciciosBP.ipynb",
      "provenance": [],
      "collapsed_sections": []
    },
    "kernelspec": {
      "name": "python3",
      "display_name": "Python 3"
    },
    "language_info": {
      "name": "python"
    }
  },
  "cells": [
    {
      "cell_type": "code",
      "metadata": {
        "colab": {
          "base_uri": "https://localhost:8080/"
        },
        "id": "MrtgMSxd_uKB",
        "outputId": "2a9e0930-193f-49d6-b04a-fd10e02baff4"
      },
      "source": [
        "#Ejercicio Tuplas\n",
        "#Crear e imprimir cada tipo de variable\n",
        "var_float = 2.718 \n",
        "print(type(var_float))\n",
        "var_int = 550 \n",
        "print(type(var_int)) \n",
        "var_bool = 6>4 \n",
        "print(type(var_bool) )\n",
        "var_comp = 3 +10j \n",
        "print(type(var_comp) )\n",
        "\n",
        "#Crear una tupla con valores enteros imprimir el primer y ultimo valor.\n",
        "tup = (8,5,7.8,97,12.01,20)\n",
        "print(type(tup))\n",
        "\n",
        "p_e = tup[0]\n",
        "u_e = tup[-1]\n",
        "print(p_e)\n",
        "print(u_e)\n",
        "\n",
        "#Añadir 3 valores de string a la tupla.\n",
        "tup = tup + tuple(['gato','perro','pescado'])\n",
        "print(tup)\n",
        "\n",
        "#Verificar si una variable existe dentro de la tupla.\n",
        "print(tup.index(\"gato\"))\n",
        "\n"
      ],
      "execution_count": null,
      "outputs": [
        {
          "output_type": "stream",
          "text": [
            "<class 'float'>\n",
            "<class 'int'>\n",
            "<class 'bool'>\n",
            "<class 'complex'>\n",
            "<class 'tuple'>\n",
            "8\n",
            "20\n",
            "(8, 5, 7.8, 97, 12.01, 20, 'gato', 'perro', 'pescado')\n",
            "6\n"
          ],
          "name": "stdout"
        }
      ]
    },
    {
      "cell_type": "code",
      "metadata": {
        "id": "v0N3OfRr_uCb"
      },
      "source": [
        "#Ejercicio listas\n",
        "#Crear una lista con 40 elementos aleatorios enteros.\n",
        "from random import randint\n",
        "lista_a = [randint(1 , 100) for _ in range(40)]\n",
        "print(lista_a) \n",
        "\n",
        "#Con una funcion (def) crear dos listas nuevas a partir de la lista creada por numeros aleatorios, en la cual en una esten los elementos pares, y en la otra los elementos impares.\n",
        "lista_ai = list(filter(lambda n: n%2 ==1, lista_a)) #impares\n",
        "print(list(lista_ai))\n",
        "lista_ap =  list(filter(lambda n: n%2 ==0, lista_a) )#pares\n",
        "print(list(lista_ap))\n",
        "\n",
        "#Crear dos variables con la longitud de ambas listas nuevas e imprimir las variables.\n",
        "lista_ap #lista par\n",
        "longitudap = len(lista_ap) \n",
        "print(longitudap)\n",
        "\n",
        "lista_ai #lista impar\n",
        "longitudai = len(lista_ai)\n",
        "print(longitudai)\n",
        "\n",
        "#Ordenar los elementos de la lista par de mayor a menor, y los de la lista impar de menor a mayor.\n",
        "rlista_ai = sorted(lista_ai) #revierte la lista\n",
        "print(rlista_ai)\n",
        "rlista_ap = sorted(lista_ap, reverse=True) #revierte la lista\n",
        "print(rlista_ap)\n",
        "\n",
        "#Utilizar al menos cuatro de las funciones de listas en python en la lista original de 40 elementos.\n",
        "lista_a \n",
        "print(lista_a) \n",
        "tupla_a = tuple(lista_a) #convierte la lista a una tuple\n",
        "print(tupla_a)\n",
        "\n",
        "#añadir un valor al final de la lista \n",
        "lista_a.append(10)\n",
        "print(lista_a)\n",
        "\n",
        "#quitar el tercer valor a la lista\n",
        "lista_a.remove(lista_a[3]) \n",
        "print(lista_a)\n",
        "\n",
        "#limpiar la lista \n",
        "lista_a.clear()\n",
        "print(lista_a)\n"
      ],
      "execution_count": null,
      "outputs": []
    },
    {
      "cell_type": "code",
      "metadata": {
        "id": "9K6y6ZZI43vK"
      },
      "source": [
        "#Ejerciocio diccionarios\n",
        "#Crear un diccionario de 6 personas que conozcas con su primer nombre y su edad.\n",
        "diccionario = {'Alejandra' : 20, 'Adriel' : 21, 'Orlando' : 21, 'Mauricio' : 22, 'Zamara' : 42, 'Karen' : 18} #crea diccionario\n",
        "\n",
        "#Crear una lista con los valores de la edad y reacomodar la lista de menor a mayor valor.\n",
        "import operator #importa un operador para combinar operadores convenientes\n",
        "acomodar_dic = sorted(diccionario.items(), key=operator.itemgetter(1),reverse= False) #acomoda los nombres de menor a mayor por edad\n",
        "#Usando el diccionario y un loop, imprimir solo los nombres.\n",
        "for name in enumerate(acomodar_dic):\n",
        "    print(name[1][0])\n",
        "#Añadir dos personas nuevas a tu diccionario, incluyendo edad.\n",
        "diccionario[\"Juan\"] = 17\n",
        "diccionario[\"Valeria\"] = 24 # agrega 2 nombres nuevos\n",
        "print(diccionario) #imprime el diccionario\n",
        "\n",
        "\n",
        "\n"
      ],
      "execution_count": null,
      "outputs": []
    },
    {
      "cell_type": "code",
      "metadata": {
        "id": "h_l1VIebD4Zb"
      },
      "source": [
        "#Ejercicio Sets\n",
        "#Crea un set con 100 numeros aleatorios enteros del 1 al 25.\n",
        "import random\n",
        "set100 ={1}\n",
        "i = 1\n",
        "set100.remove(1)\n",
        "while i <= 100:\n",
        "      set100.add(random.randint(1,25))  \n",
        "      i = i + 1\n",
        "\n",
        "#Comprueba la longitud de tu set.\n",
        "len(set100)\n",
        "#Crea una lista de 5 numeros aleatorios del 1 al 10 y comprueba si cada valor aparece en el set inicial.\n",
        "lista=[]\n",
        "i=1\n",
        "while i <=5:\n",
        "      lista.append(random.randint(1,10)\n",
        "      i= i + 1\n",
        "\n",
        "\n",
        "  i=0\n",
        "  while 1<=4:\n",
        "        print(\"\\nNumero\" ,lista[i], \"esta en el set de 100 num?\")\n",
        "        print(lista[i] in set100)\n",
        "        i=i+1"
      ],
      "execution_count": null,
      "outputs": []
    }
  ]
}